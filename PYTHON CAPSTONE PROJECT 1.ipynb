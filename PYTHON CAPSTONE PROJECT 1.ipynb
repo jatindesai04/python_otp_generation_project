{
 "cells": [
  {
   "cell_type": "code",
   "execution_count": 4,
   "id": "e4fc0727-32c4-4feb-bc0d-21489a3bb40c",
   "metadata": {},
   "outputs": [
    {
     "name": "stdin",
     "output_type": "stream",
     "text": [
      "Enter your email:  shatirdimag5@gmail.com\n",
      "sender password here ········\n"
     ]
    },
    {
     "name": "stdout",
     "output_type": "stream",
     "text": [
      "OTP has been sent to shatirdimag5@gmail.com\n"
     ]
    },
    {
     "name": "stdin",
     "output_type": "stream",
     "text": [
      "Enter the OTP you received:  557669\n"
     ]
    },
    {
     "name": "stdout",
     "output_type": "stream",
     "text": [
      "OTP verification successful. Access granted!\n",
      "Incorrect OTP. You have 2 attempts left.\n"
     ]
    },
    {
     "name": "stdin",
     "output_type": "stream",
     "text": [
      "Enter the OTP you received:  10\n"
     ]
    },
    {
     "name": "stdout",
     "output_type": "stream",
     "text": [
      "Invalid OTP. Access denied.\n",
      "Incorrect OTP. You have 1 attempts left.\n"
     ]
    },
    {
     "name": "stdin",
     "output_type": "stream",
     "text": [
      "Enter the OTP you received:  10\n"
     ]
    },
    {
     "name": "stdout",
     "output_type": "stream",
     "text": [
      "Invalid OTP. Access denied.\n",
      "Incorrect OTP. You have 0 attempts left.\n",
      "Too many failed attempts. Access denied.\n"
     ]
    }
   ],
   "source": [
    "import random\n",
    "import smtplib\n",
    "import getpass\n",
    "from email.message import EmailMessage\n",
    "\n",
    "# Function to generate a 6-digit OTP\n",
    "def generate_otp():\n",
    "    otp = random.randint(100000, 999999)\n",
    "    return otp\n",
    "\n",
    "# Function to simulate sending OTP via email\n",
    "def send_otp_via_email(receiver_email, otp):\n",
    "    \n",
    "    sender_email = 'djatin20@gmail.com'  # Replace with your email\n",
    "    sender_password = getpass.getpass(prompt=\"sender password here\")  # Use getpass to avoid showing the password\n",
    "    \n",
    "    msg = EmailMessage()\n",
    "    msg.set_content(f\"Your OTP is: {otp}\")\n",
    "    msg['Subject'] = 'Your OTP Verification Code'\n",
    "    msg['From'] = sender_email\n",
    "    msg['To'] = receiver_email\n",
    "    \n",
    "    # SMTP Configuration for sending email\n",
    "    try:\n",
    "        with smtplib.SMTP_SSL('smtp.gmail.com', 465) as smtp:\n",
    "            smtp.login(sender_email, sender_password)\n",
    "            smtp.send_message(msg)\n",
    "        print(f\"OTP has been sent to {receiver_email}\")\n",
    "    except Exception as e:\n",
    "        print(f\"Failed to send email: {e}\")\n",
    "\n",
    "# Function to prompt user to enter OTP\n",
    "def get_user_otp():\n",
    "    return input(\"Enter the OTP you received: \")\n",
    "\n",
    "# Function to verify if the entered OTP matches the generated one\n",
    "def verify_otp(generated_otp, user_otp):\n",
    "    if generated_otp == int(user_otp):\n",
    "        \n",
    "        print(\"OTP verification successful. Access granted!\")\n",
    "        \n",
    "    else:\n",
    "        print(\"Invalid OTP. Access denied.\")\n",
    "\n",
    "# Main Function\n",
    "def otp_verification_system():\n",
    "    email = input(\"Enter your email: \")\n",
    "    \n",
    "    # Step 1: Generate OTP\n",
    "    otp = generate_otp()\n",
    "    \n",
    "    # Step 2: Send OTP to user’s email\n",
    "    send_otp_via_email(email, otp)\n",
    "    \n",
    "    # Step 3: User enters the OTP\n",
    "\n",
    "    \n",
    "    attempts = 3\n",
    "    while attempts > 0:\n",
    "        user_otp = get_user_otp()\n",
    "        \n",
    "        # Step 4: Verify OTP\n",
    "        if verify_otp(otp, user_otp):\n",
    "            break\n",
    "        else:\n",
    "            attempts -= 1\n",
    "            print(f\"Incorrect OTP. You have {attempts} attempts left.\")\n",
    "    \n",
    "    if attempts == 0:\n",
    "        print(\"Too many failed attempts. Access denied.\")\n",
    "\n",
    "# Run the OTP verification system\n",
    "if __name__ == \"__main__\":\n",
    "    otp_verification_system()\n",
    "    "
   ]
  },
  {
   "cell_type": "code",
   "execution_count": null,
   "id": "f62b8733-b6ab-40ba-99e4-ffd95cc7c68d",
   "metadata": {},
   "outputs": [],
   "source": []
  },
  {
   "cell_type": "code",
   "execution_count": null,
   "id": "a2e09d86-9b8d-439b-b67b-6d2645bedf9c",
   "metadata": {},
   "outputs": [],
   "source": []
  },
  {
   "cell_type": "code",
   "execution_count": null,
   "id": "41769dfc-1cf8-4889-a7e6-7bf70c6bdc28",
   "metadata": {},
   "outputs": [],
   "source": []
  }
 ],
 "metadata": {
  "kernelspec": {
   "display_name": "Python 3 (ipykernel)",
   "language": "python",
   "name": "python3"
  },
  "language_info": {
   "codemirror_mode": {
    "name": "ipython",
    "version": 3
   },
   "file_extension": ".py",
   "mimetype": "text/x-python",
   "name": "python",
   "nbconvert_exporter": "python",
   "pygments_lexer": "ipython3",
   "version": "3.12.1"
  }
 },
 "nbformat": 4,
 "nbformat_minor": 5
}
